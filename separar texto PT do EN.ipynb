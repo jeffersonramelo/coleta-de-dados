{
  "nbformat": 4,
  "nbformat_minor": 0,
  "metadata": {
    "colab": {
      "provenance": [],
      "authorship_tag": "ABX9TyMxY18nQ2jm8NkCkAZ9abS4",
      "include_colab_link": true
    },
    "kernelspec": {
      "name": "python3",
      "display_name": "Python 3"
    },
    "language_info": {
      "name": "python"
    }
  },
  "cells": [
    {
      "cell_type": "markdown",
      "metadata": {
        "id": "view-in-github",
        "colab_type": "text"
      },
      "source": [
        "<a href=\"https://colab.research.google.com/github/jeffersonramelo/coleta-de-dados/blob/main/separar%20texto%20PT%20do%20EN.ipynb\" target=\"_parent\"><img src=\"https://colab.research.google.com/assets/colab-badge.svg\" alt=\"Open In Colab\"/></a>"
      ]
    },
    {
      "cell_type": "code",
      "source": [
        "!pip install langdetect"
      ],
      "metadata": {
        "colab": {
          "base_uri": "https://localhost:8080/"
        },
        "id": "ByFZHj1ZSwn3",
        "outputId": "41ea9e8a-50eb-4b9f-b5dd-9214ae55d26f"
      },
      "execution_count": 2,
      "outputs": [
        {
          "output_type": "stream",
          "name": "stdout",
          "text": [
            "Looking in indexes: https://pypi.org/simple, https://us-python.pkg.dev/colab-wheels/public/simple/\n",
            "Collecting langdetect\n",
            "  Downloading langdetect-1.0.9.tar.gz (981 kB)\n",
            "\u001b[?25l     \u001b[90m━━━━━━━━━━━━━━━━━━━━━━━━━━━━━━━━━━━━━━━━\u001b[0m \u001b[32m0.0/981.5 kB\u001b[0m \u001b[31m?\u001b[0m eta \u001b[36m-:--:--\u001b[0m\r\u001b[2K     \u001b[91m━━━━━━━━━━━\u001b[0m\u001b[90m╺\u001b[0m\u001b[90m━━━━━━━━━━━━━━━━━━━━━━━━━━━\u001b[0m \u001b[32m286.7/981.5 kB\u001b[0m \u001b[31m8.5 MB/s\u001b[0m eta \u001b[36m0:00:01\u001b[0m\r\u001b[2K     \u001b[90m━━━━━━━━━━━━━━━━━━━━━━━━━━━━━━━━━━━━━━\u001b[0m \u001b[32m981.5/981.5 kB\u001b[0m \u001b[31m16.7 MB/s\u001b[0m eta \u001b[36m0:00:00\u001b[0m\n",
            "\u001b[?25h  Preparing metadata (setup.py) ... \u001b[?25l\u001b[?25hdone\n",
            "Requirement already satisfied: six in /usr/local/lib/python3.10/dist-packages (from langdetect) (1.16.0)\n",
            "Building wheels for collected packages: langdetect\n",
            "  Building wheel for langdetect (setup.py) ... \u001b[?25l\u001b[?25hdone\n",
            "  Created wheel for langdetect: filename=langdetect-1.0.9-py3-none-any.whl size=993224 sha256=d6e1eb9c7af363adb3a37079b2d00f9f1851eb0f97fcffe1c2dd0e4799e3e474\n",
            "  Stored in directory: /root/.cache/pip/wheels/95/03/7d/59ea870c70ce4e5a370638b5462a7711ab78fba2f655d05106\n",
            "Successfully built langdetect\n",
            "Installing collected packages: langdetect\n",
            "Successfully installed langdetect-1.0.9\n"
          ]
        }
      ]
    },
    {
      "cell_type": "code",
      "execution_count": 3,
      "metadata": {
        "colab": {
          "base_uri": "https://localhost:8080/"
        },
        "id": "6Pnnxap9STWR",
        "outputId": "b0f5b73b-7dad-4c2d-8cdb-a32f946bae5b"
      },
      "outputs": [
        {
          "output_type": "stream",
          "name": "stdout",
          "text": [
            " – Em Recuperação Judicial  \n",
            "CNPJ/ME nº 76.535.764/0001 -43 \n",
            "NIRE 33.3.0029520 -8 \n",
            "Companhia Aberta  \n",
            " \n",
            "FATO RELEVANTE  \n",
            " \n",
            "Oi S.A . – Em Recuperação Judicial  (“Oi” ou “ Companhia ”), em cumprimento ao \n",
            "disposto no art.  157, §4º, Lei nº 6.404/1976, e  na Resolução CVM nº 44 /21, vem informar \n",
            "aos seus acionistas e ao mercado em geral  que optou por descontinuar a divulgação \n",
            "das projeções de desempenho futuro  (“guidance ”), contemplando projeções e \n",
            "estimativas operacionais e financeiras divulgad as no Fato Relevante de 19 de julho de \n",
            "2021, tendo em vista as relevantes mudanças no cenário macroeconômico brasileiro e \n",
            "a consequente contrapartida no ambiente competitivo  e nas necessidades de \n",
            "financiamento  da Companhia . \n",
            " \n",
            "A Companhia também ressalta que as projeções contidas no Fato Relevante de 31 de \n",
            "dezembro de 2022 , sobre o Blowout  das discussões com credores , não deve m ser \n",
            "consideradas como guidance . Isso  porque tais projeções  assumem premissas da \n",
            "negociação com os credores conforme os termos da proposta apresentada no material  \n",
            "e os indicadores financeiros e operacionais  divulgados poderiam ser objeto de revisão \n",
            "de acordo com o próprio resultado des sa discussão . \n",
            " \n",
            "A Companhia manterá seu s acionistas e o mercado informados sobre o \n",
            "desenvolvimento dos assuntos objeto deste Fato Relevante.  \n",
            " \n",
            "Rio de Janeiro, 16 de janeiro de 2023 .  – Em Recuperação Judicial  \n",
            "Cristiane Barretto Sales  \n",
            "Diretora de Finanças e de Relações com Investidores  \n",
            "\n"
          ]
        },
        {
          "output_type": "stream",
          "name": "stderr",
          "text": [
            "<ipython-input-3-a342e439846a>:35: SettingWithCopyWarning: \n",
            "A value is trying to be set on a copy of a slice from a DataFrame.\n",
            "Try using .loc[row_indexer,col_indexer] = value instead\n",
            "\n",
            "See the caveats in the documentation: https://pandas.pydata.org/pandas-docs/stable/user_guide/indexing.html#returning-a-view-versus-a-copy\n",
            "  df_portugues['texto_portugues'] = df_portugues['Texto'].apply(remove_parte_ingles)\n"
          ]
        }
      ],
      "source": [
        "import pandas as pd\n",
        "from langdetect import detect\n",
        "\n",
        "# Função para detectar o idioma de um texto\n",
        "def detect_language(text):\n",
        "    try:\n",
        "        return detect(text)\n",
        "    except:\n",
        "        return ''\n",
        "\n",
        "# Função para remover a parte em inglês dos textos em português\n",
        "def remove_parte_ingles(text):\n",
        "    # Verificar se o idioma é português\n",
        "    if detect_language(text) == 'pt':\n",
        "        # Dividir o texto em frases\n",
        "        sentences = text.split('. ')\n",
        "        # Manter apenas as frases em português\n",
        "        sentences = [s for s in sentences if detect_language(s) == 'pt']\n",
        "        # Juntar as frases novamente em um texto\n",
        "        portuguese_text = '. '.join(sentences)\n",
        "        return portuguese_text\n",
        "    else:\n",
        "        return ''\n",
        "\n",
        "# Carregar o arquivo CSV em um DataFrame\n",
        "df = pd.read_csv('/content/fatos relevantes 2023 texto.csv')\n",
        "\n",
        "# Aplicar a função detect_language à coluna 'Texto' e criar uma nova coluna 'idioma'\n",
        "df['idioma'] = df['Texto'].apply(detect_language)\n",
        "\n",
        "# Filtrar apenas as linhas em que o idioma é português\n",
        "df_portugues = df[df['idioma'] == 'pt']\n",
        "\n",
        "# Aplicar a função remove_parte_ingles para remover a parte em inglês dos textos em português\n",
        "df_portugues['texto_portugues'] = df_portugues['Texto'].apply(remove_parte_ingles)\n",
        "\n",
        "# Excluir a coluna 'idioma' do novo DataFrame\n",
        "df_portugues = df_portugues.drop('idioma', axis=1)\n",
        "\n",
        "# Visualizar as células com o texto em português\n",
        "print(df_portugues.loc[:, 'texto_portugues'].iloc[0])\n"
      ]
    },
    {
      "cell_type": "code",
      "source": [
        "pip install openpyxl"
      ],
      "metadata": {
        "colab": {
          "base_uri": "https://localhost:8080/"
        },
        "id": "iWssV8M6Troz",
        "outputId": "1a008d07-71ac-4ffb-d029-72be45affb3f"
      },
      "execution_count": 6,
      "outputs": [
        {
          "output_type": "stream",
          "name": "stdout",
          "text": [
            "Looking in indexes: https://pypi.org/simple, https://us-python.pkg.dev/colab-wheels/public/simple/\n",
            "Requirement already satisfied: openpyxl in /usr/local/lib/python3.10/dist-packages (3.0.10)\n",
            "Requirement already satisfied: et-xmlfile in /usr/local/lib/python3.10/dist-packages (from openpyxl) (1.1.0)\n"
          ]
        }
      ]
    },
    {
      "cell_type": "code",
      "source": [
        "\n",
        "# Salvar o DataFrame 'df_ingles' em um arquivo Excel\n",
        "df_portugues.to_excel('df_portugues.xlsx', index=False)"
      ],
      "metadata": {
        "id": "HoqIM--bUABz"
      },
      "execution_count": 8,
      "outputs": []
    }
  ]
}